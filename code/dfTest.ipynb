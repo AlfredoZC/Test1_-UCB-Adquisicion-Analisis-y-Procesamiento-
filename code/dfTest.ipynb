{
 "cells": [
  {
   "cell_type": "code",
   "execution_count": null,
   "id": "e92ae351",
   "metadata": {},
   "outputs": [
    {
     "data": {
      "text/html": [
       "<div>\n",
       "<style scoped>\n",
       "    .dataframe tbody tr th:only-of-type {\n",
       "        vertical-align: middle;\n",
       "    }\n",
       "\n",
       "    .dataframe tbody tr th {\n",
       "        vertical-align: top;\n",
       "    }\n",
       "\n",
       "    .dataframe thead th {\n",
       "        text-align: right;\n",
       "    }\n",
       "</style>\n",
       "<table border=\"1\" class=\"dataframe\">\n",
       "  <thead>\n",
       "    <tr style=\"text-align: right;\">\n",
       "      <th></th>\n",
       "      <th>Pais</th>\n",
       "      <th>PBI</th>\n",
       "      <th>Poblacion</th>\n",
       "    </tr>\n",
       "  </thead>\n",
       "  <tbody>\n",
       "    <tr>\n",
       "      <th>0</th>\n",
       "      <td>Mexioco</td>\n",
       "      <td>1200.0</td>\n",
       "      <td>128.0</td>\n",
       "    </tr>\n",
       "    <tr>\n",
       "      <th>1</th>\n",
       "      <td>Colombia</td>\n",
       "      <td>950.0</td>\n",
       "      <td>NaN</td>\n",
       "    </tr>\n",
       "    <tr>\n",
       "      <th>2</th>\n",
       "      <td>Argentina</td>\n",
       "      <td>NaN</td>\n",
       "      <td>45.0</td>\n",
       "    </tr>\n",
       "    <tr>\n",
       "      <th>3</th>\n",
       "      <td>Peru</td>\n",
       "      <td>800.0</td>\n",
       "      <td>33.0</td>\n",
       "    </tr>\n",
       "    <tr>\n",
       "      <th>4</th>\n",
       "      <td>Chile</td>\n",
       "      <td>850.0</td>\n",
       "      <td>19.0</td>\n",
       "    </tr>\n",
       "  </tbody>\n",
       "</table>\n",
       "</div>"
      ],
      "text/plain": [
       "        Pais     PBI  Poblacion\n",
       "0    Mexioco  1200.0      128.0\n",
       "1   Colombia   950.0        NaN\n",
       "2  Argentina     NaN       45.0\n",
       "3       Peru   800.0       33.0\n",
       "4      Chile   850.0       19.0"
      ]
     },
     "execution_count": 38,
     "metadata": {},
     "output_type": "execute_result"
    }
   ],
   "source": [
    "#Dado los datos nulos:\n",
    "\n",
    "import pandas as pd \n",
    "\n",
    "data = {'Pais':['Mexioco','Colombia','Argentina','Peru','Chile'],\n",
    "        'PBI':[1200,950,None,800,850],\n",
    "        'Poblacion':[128,None,45,33,19]}\n",
    "\n",
    "df_data = pd.DataFrame(data)\n",
    "df_data"
   ]
  },
  {
   "cell_type": "code",
   "execution_count": 39,
   "id": "2f3b28af",
   "metadata": {},
   "outputs": [
    {
     "data": {
      "text/html": [
       "<div>\n",
       "<style scoped>\n",
       "    .dataframe tbody tr th:only-of-type {\n",
       "        vertical-align: middle;\n",
       "    }\n",
       "\n",
       "    .dataframe tbody tr th {\n",
       "        vertical-align: top;\n",
       "    }\n",
       "\n",
       "    .dataframe thead th {\n",
       "        text-align: right;\n",
       "    }\n",
       "</style>\n",
       "<table border=\"1\" class=\"dataframe\">\n",
       "  <thead>\n",
       "    <tr style=\"text-align: right;\">\n",
       "      <th></th>\n",
       "      <th>Pais</th>\n",
       "      <th>PBI</th>\n",
       "      <th>Poblacion</th>\n",
       "    </tr>\n",
       "  </thead>\n",
       "  <tbody>\n",
       "    <tr>\n",
       "      <th>0</th>\n",
       "      <td>Mexioco</td>\n",
       "      <td>1200.0</td>\n",
       "      <td>128.00</td>\n",
       "    </tr>\n",
       "    <tr>\n",
       "      <th>1</th>\n",
       "      <td>Colombia</td>\n",
       "      <td>950.0</td>\n",
       "      <td>56.25</td>\n",
       "    </tr>\n",
       "    <tr>\n",
       "      <th>2</th>\n",
       "      <td>Argentina</td>\n",
       "      <td>950.0</td>\n",
       "      <td>45.00</td>\n",
       "    </tr>\n",
       "    <tr>\n",
       "      <th>3</th>\n",
       "      <td>Peru</td>\n",
       "      <td>800.0</td>\n",
       "      <td>33.00</td>\n",
       "    </tr>\n",
       "    <tr>\n",
       "      <th>4</th>\n",
       "      <td>Chile</td>\n",
       "      <td>850.0</td>\n",
       "      <td>19.00</td>\n",
       "    </tr>\n",
       "  </tbody>\n",
       "</table>\n",
       "</div>"
      ],
      "text/plain": [
       "        Pais     PBI  Poblacion\n",
       "0    Mexioco  1200.0     128.00\n",
       "1   Colombia   950.0      56.25\n",
       "2  Argentina   950.0      45.00\n",
       "3       Peru   800.0      33.00\n",
       "4      Chile   850.0      19.00"
      ]
     },
     "execution_count": 39,
     "metadata": {},
     "output_type": "execute_result"
    }
   ],
   "source": [
    "df_data.fillna({'PBI': df_data['PBI'].mean(), 'Poblacion':df_data['Poblacion'].mean()})\n"
   ]
  },
  {
   "cell_type": "markdown",
   "id": "f0819ff1",
   "metadata": {},
   "source": [
    "### R.- RELLENAMOS LOS DATOS FALTANTOS CON LA MEDIA!"
   ]
  },
  {
   "cell_type": "code",
   "execution_count": 34,
   "id": "ad5e8783",
   "metadata": {},
   "outputs": [
    {
     "data": {
      "text/html": [
       "<div>\n",
       "<style scoped>\n",
       "    .dataframe tbody tr th:only-of-type {\n",
       "        vertical-align: middle;\n",
       "    }\n",
       "\n",
       "    .dataframe tbody tr th {\n",
       "        vertical-align: top;\n",
       "    }\n",
       "\n",
       "    .dataframe thead th {\n",
       "        text-align: right;\n",
       "    }\n",
       "</style>\n",
       "<table border=\"1\" class=\"dataframe\">\n",
       "  <thead>\n",
       "    <tr style=\"text-align: right;\">\n",
       "      <th></th>\n",
       "      <th>data</th>\n",
       "    </tr>\n",
       "  </thead>\n",
       "  <tbody>\n",
       "    <tr>\n",
       "      <th>0</th>\n",
       "      <td>1000</td>\n",
       "    </tr>\n",
       "    <tr>\n",
       "      <th>1</th>\n",
       "      <td>1100</td>\n",
       "    </tr>\n",
       "    <tr>\n",
       "      <th>2</th>\n",
       "      <td>1150</td>\n",
       "    </tr>\n",
       "    <tr>\n",
       "      <th>3</th>\n",
       "      <td>1200</td>\n",
       "    </tr>\n",
       "    <tr>\n",
       "      <th>4</th>\n",
       "      <td>1250</td>\n",
       "    </tr>\n",
       "    <tr>\n",
       "      <th>5</th>\n",
       "      <td>1300</td>\n",
       "    </tr>\n",
       "    <tr>\n",
       "      <th>6</th>\n",
       "      <td>8000</td>\n",
       "    </tr>\n",
       "  </tbody>\n",
       "</table>\n",
       "</div>"
      ],
      "text/plain": [
       "   data\n",
       "0  1000\n",
       "1  1100\n",
       "2  1150\n",
       "3  1200\n",
       "4  1250\n",
       "5  1300\n",
       "6  8000"
      ]
     },
     "execution_count": 34,
     "metadata": {},
     "output_type": "execute_result"
    }
   ],
   "source": [
    "#Encontrar valores atipicos:\n",
    "import numpy as np\n",
    "ingresos = np.array([1000,1100,1150,1200,1250,1300,8000])\n",
    "df = pd.DataFrame(ingresos, columns=['data'])\n",
    "df\n"
   ]
  },
  {
   "cell_type": "code",
   "execution_count": 35,
   "id": "31340f34",
   "metadata": {},
   "outputs": [
    {
     "data": {
      "text/plain": [
       "<Axes: >"
      ]
     },
     "execution_count": 35,
     "metadata": {},
     "output_type": "execute_result"
    },
    {
     "data": {
      "image/png": "[encoded data removed]",
      "text/plain": [
       "<Figure size 640x480 with 1 Axes>"
      ]
     },
     "metadata": {},
     "output_type": "display_data"
    }
   ],
   "source": [
    "df['data'].plot(kind='box')"
   ]
  },
  {
   "cell_type": "markdown",
   "id": "700479b8",
   "metadata": {},
   "source": [
    "### R.- POR LO TANTO HAY VALORES ATIPICO EN INGRESOS! SIENDO ESPECIFICOS HAY UN VALOR CON 800!"
   ]
  },
  {
   "cell_type": "code",
   "execution_count": 40,
   "id": "8ab36132",
   "metadata": {},
   "outputs": [
    {
     "data": {
      "text/plain": [
       "['Mejor película: Oppenheimer',\n",
       " 'Mejor dirección: Oppenheimer - Christopher Nolan',\n",
       " 'Mejor actriz protagonista: Emma Stone - \"Pobres criaturas\" (Poor Things)',\n",
       " 'Mejor actor protagonista: Cillian Murphy - Oppenheimer',\n",
       " 'Mejor actriz de reparto: Da’Vine Joy Randolph - The Holdovers (\"Los que se quedan\")',\n",
       " 'Mejor actor de reparto: Robert Downey Jr. - Oppenheimer',\n",
       " 'Mejor guion original: Anatomy of a Fall (\"Anatomía de una caída\") - Justin Triet, Arthur Harari',\n",
       " 'Mejor guion adaptado: American Fiction - Cord Jefferson',\n",
       " 'Mejor edición: Oppenheimer',\n",
       " 'Mejor película internacional: \"La zona de interés\" (The Zone of Interest)',\n",
       " 'Mejor película animada: Kimitachi wa Dō Ikiru ka (The Boy and the Heron, \"El chico y la garza\")',\n",
       " 'Mejor cortometraje animado: War is Over! Inspired by the music of John & Oko - Dace Mullins, Brad Booker',\n",
       " 'Mejor maquillaje y peluquería: \"Pobres criaturas\" (Poor Things)',\n",
       " 'Mejor diseño de producción: \"Pobres criaturas\" (Poor Things) - Diseño de producción: James Price y Shona Heath, Decoración de escenografía: Zsuzsa Mihalek',\n",
       " 'Mejor diseño de vestuario: \"Pobres criaturas\" (Poor Things)',\n",
       " 'Mejores efectos visuales: Godzilla Minus One',\n",
       " 'Mejor película documental: 20 Days in Mariupol (\"20 días en Mariúpol\")',\n",
       " 'Mejor cortometraje documental: The Last Repair Shop',\n",
       " 'Mejor fotografía: Oppenheimer',\n",
       " 'Mejor cortometraje de ficción: The Wonderful Story of Henry Sugar - Wes Anderson, Steven Rales',\n",
       " 'Mejor sonido: \"La zona de interés\" (The Zone of Interest)',\n",
       " 'Mejor banda sonora original: Oppenheimer ',\n",
       " 'Mejor canción: What Was I Made For? - Barbie']"
      ]
     },
     "execution_count": 40,
     "metadata": {},
     "output_type": "execute_result"
    }
   ],
   "source": [
    "#Webscraping\n",
    "from urllib.request import urlopen\n",
    "from bs4 import BeautifulSoup\n",
    "import pandas as pd\n",
    "\n",
    "html = urlopen('https://www.bbc.com/mundo/articles/c970y3my60jo')\n",
    "bs = BeautifulSoup(html, 'html.parser')\n",
    "table = bs.find('ul',{'class','bbc-1lxq1jn'})\n",
    "columns= [data.get_text() for data in table.find_all('li')]\n",
    "columns\n",
    "\n",
    "    \n"
   ]
  },
  {
   "cell_type": "markdown",
   "id": "35646161",
   "metadata": {},
   "source": [
    "### WEBSCRAPEAMOS Y OBTUVIMOS LOS DATOS!"
   ]
  }
 ],
 "metadata": {
  "kernelspec": {
   "display_name": "env",
   "language": "python",
   "name": "python3"
  },
  "language_info": {
   "codemirror_mode": {
    "name": "ipython",
    "version": 3
   },
   "file_extension": ".py",
   "mimetype": "text/x-python",
   "name": "python",
   "nbconvert_exporter": "python",
   "pygments_lexer": "ipython3",
   "version": "3.10.9"
  }
 },
 "nbformat": 4,
 "nbformat_minor": 5
}
